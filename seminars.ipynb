{
 "cells": [
  {
   "cell_type": "markdown",
   "metadata": {},
   "source": [
    "# Seminars\n",
    "\n",
    "| Date | Topic |\n",
    "|------|------|\n",
    "| 2/18 | [S1 No-Arbitrage Pricing for FX Markets](seminars/s1_fxpricing.html)|\n",
    "| 2/25 | [S2 Heston Model](seminars/s2_heston.html)|\n",
    "| 3/04 | [S1 Volatility Derivatives](seminars/s3_volderivatives.html)|\n",
    "| 3/11 | [S4 Hull-White Model](seminars/s4_hullwhite.html)|\n",
    "| 3/23 | [S5 Exam Preparation](seminars/s5_review.html)|"
   ]
  }
 ],
 "metadata": {
  "kernelspec": {
   "display_name": "Python 3",
   "name": "python3"
  },
  "language_info": {
   "name": "python"
  }
 },
 "nbformat": 4,
 "nbformat_minor": 4
}