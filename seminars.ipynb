{
 "cells": [
  {
   "cell_type": "markdown",
   "metadata": {},
   "source": [
    "# Seminars\n",
    "\n",
    "| Date | Topic |\n",
    "|------|------|\n",
    "| 2/09 | [S1 Volatility Derivatives](seminars/s1_volderivatives.html)|\n",
    "| 2/23 | [S2 No-Arbitrage Pricing for FX Markets](seminars/s2_fxpricing.html)|\n",
    "| 3/09 | [S3 Heston Model](seminars/s3_heston.html)|\n",
    "| 3/23 | [S4 Hull-White Model](seminars/s4_hullwhite.html)|\n",
    "| 4/20 | [S5 Exam Preparation](seminars/s5_review.html)|"
   ]
  }
 ],
 "metadata": {
  "kernelspec": {
   "display_name": "Python 3",
   "name": "python3"
  },
  "language_info": {
   "name": "python"
  }
 },
 "nbformat": 4,
 "nbformat_minor": 4
}