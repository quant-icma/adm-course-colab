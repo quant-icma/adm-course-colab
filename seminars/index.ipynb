{
 "cells": [
  {
   "cell_type": "markdown",
   "metadata": {},
   "source": [
    "# Seminars\n",
    "\n",
    "| Date | Topic |\n",
    "|------|------|\n",
    "| 2/18 | [S1 No-Arbitrage Pricing for FX Markets](seminars/s1_fxpricing.html)|\n",
    "| 2/25 | [S2 Heston Model](seminars/s2_heston.html)|\n",
    "| 3/04 | [S3 Volatility Derivatives](seminars/s3_volderivatives.html)|\n",
    "| 3/11 | [S4 Hull-White Model](seminars/s4_hullwhite.html)|\n",
    "| 3/23 | [S5 Exam Preparation](seminars/s5_review.html)|\n",
    "\n",
    ":begin_tab:toc\n",
    " - [s1_fxpricing](s1_fxpricing.ipynb)\n",
    " - [s2_heston](s2_heston.ipynb)\n",
    " - [s3_volderivatives](s3_volderivatives.ipynb)\n",
    " - [s4_hullwhite](s4_hullwhite.ipynb)\n",
    ":end_tab:\n"
   ]
  }
 ],
 "metadata": {
  "kernelspec": {
   "display_name": "Python 3",
   "name": "python3"
  },
  "language_info": {
   "name": "python"
  }
 },
 "nbformat": 4,
 "nbformat_minor": 4
}