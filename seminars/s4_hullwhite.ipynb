{
 "cells": [
  {
   "cell_type": "markdown",
   "metadata": {},
   "source": [
    "# Hull-White Term-Structure Model\n",
    "\n",
    "[Questions](HullWhiteQuestions.pdf)\n",
    "\n",
    "[Answers](HullWhiteAnswers.pdf)"
   ]
  }
 ],
 "metadata": {
  "kernelspec": {
   "display_name": "Python 3",
   "name": "python3"
  },
  "language_info": {
   "name": "python"
  }
 },
 "nbformat": 4,
 "nbformat_minor": 4
}