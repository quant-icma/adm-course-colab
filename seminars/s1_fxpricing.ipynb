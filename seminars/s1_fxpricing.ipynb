{
 "cells": [
  {
   "cell_type": "markdown",
   "metadata": {},
   "source": [
    "# No-arbitrage Pricing for Foreign Exchange Derivatives\n",
    "\n",
    "[Questions](Seminar2_Fx_NoArbitrage_Questions.pdf)"
   ]
  }
 ],
 "metadata": {
  "kernelspec": {
   "display_name": "Python 3",
   "name": "python3"
  },
  "language_info": {
   "name": "python"
  }
 },
 "nbformat": 4,
 "nbformat_minor": 4
}