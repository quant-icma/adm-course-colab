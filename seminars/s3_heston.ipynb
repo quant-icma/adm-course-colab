{
 "cells": [
  {
   "cell_type": "markdown",
   "metadata": {},
   "source": [
    "# Heston's Stochastic Volatility Model\n",
    "\n",
    "[Questions](Heston_Questions.pdf)\n",
    "\n",
    "[Answers](Heston_Answers.pdf)"
   ]
  }
 ],
 "metadata": {
  "kernelspec": {
   "display_name": "Python 3",
   "name": "python3"
  },
  "language_info": {
   "name": "python"
  }
 },
 "nbformat": 4,
 "nbformat_minor": 4
}