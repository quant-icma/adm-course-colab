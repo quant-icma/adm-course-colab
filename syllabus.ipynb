{
 "cells": [
  {
   "cell_type": "markdown",
   "metadata": {},
   "source": [
    "# Syllabus\n",
    "\n",
    "This course provides a solid introduction to derivatives modelling, blending theoretical and mathematical derivations with programming implementation. It is a relatively advanced introduction. It will not make you an expert on the subject but it does go beyond the Black-Scholes-Merton model, exploring implications of loosening the various assumptions that underlie the Black-Scholes-Merton model and theory. The course assumes you have taken at least a one-semester course on stochastic calculus. It also assumes that you have studied (or are currently studying) an introductory course on Black-Scholes-Merton - the Derivatives Modelling course at the ICMA centre - pricing of vanilla European options.\n",
    "\n",
    "Below, you can find an approximate timetable of the course, where 'L', 'S', and 'A' codes denote 'Lecture', 'Seminar' and 'Assignment'.\n",
    "The live lectures are organized as interactive discussions of the topics and are complemented by pre-recorded video lectures. \n",
    "The seminar are extensions of the lectures with more detailed derivations. The questions are available in advance of the seminar sessions. You are encouraged to attempt the questions beforehand. The seminar sessions go through model answers and typed answers are available after the session. Note that the questions are quite challenging and it is quite normal that you find really hard to answer them before the seminar. However, you should still try your best to think through them on your own before the seminar sessions.\n",
    "\n",
    "\n",
    "| Date | Topic |\n",
    "|------|------|\n",
    "| 1/25 | [Introduction, Logistics](topics/l0_introduction.html)|\n",
    "| 1/26 | [L1 Arbitrage, Replication Principles](topics/l1_principles.html)|\n",
    "| 2/01 | [L2 Static Replication, Volatility Derivatives, Implied Distributions](topics/l2_static.html)|\n",
    "| 2/08 | [L3 Binomial Model, Black-Scholes-Merton](topics/l3_black.html)|\n",
    "| 2/09 | [S1 Volatility Derivatives](seminars/s1_volderivatives.html)|\n",
    "| 2/15 | [A1 Deadline](assignments/a1.html)|\n",
    "| 2/22 | [L4 Semi-Static Replication, Earl Exerice Derivatives](topics/l4_american.html)|\n",
    "| 2/23 | [S2 No-Arbitrage Pricing for FX Markets](seminars/s2_fxpricing.html)|\n",
    "| 3/01 | [A2 Deadline](assignments/a2.html)|\n",
    "| 3/01 | [L5 Discrete Hedging, Transaction Costs](topics/l5_costs.html)|\n",
    "| 3/08 | [L6 Local Volatility, Stochastic Volatility](topics/l6_localvol.html)|\n",
    "| 3/09 | [S3 Heston Model](seminars/s3_heston.html)|\n",
    "| 3/15 | [L7 Stochastic Volatility Modelling](topics/l7_stochvol.html)|\n",
    "| 3/22 | [A3 Deadline](assignments/a3.html)|\n",
    "| 3/22 | [L8 Interest Rates Derivatives](topics/l8_rates.html)|\n",
    "| 3/23 | [S4 Hull-White Model](seminars/s4_hullwhite.html)|\n",
    "| 4/19 | [A4 Deadline](assignments/a4.html)|\n",
    "| 4/19 | [L9 Term-Structure, HJM Modelling](topics/l9_hjm.html)|\n",
    "| 4/20 | [S5 Exam Preparation](seminars/s5_review.html)|\n",
    "| 4/26 | [L10 Credit Modelling, Valuation Adjustments](topics/l10_xva.html)|\n",
    "| 4/27 | [Recap, Conclusion](topics/l11_conclusion.html)|"
   ]
  }
 ],
 "metadata": {
  "kernelspec": {
   "display_name": "Python 3",
   "name": "python3"
  },
  "language_info": {
   "name": "python"
  }
 },
 "nbformat": 4,
 "nbformat_minor": 4
}