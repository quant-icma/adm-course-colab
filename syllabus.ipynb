{
 "cells": [
  {
   "cell_type": "markdown",
   "metadata": {},
   "source": [
    "# Syllabus\n",
    "\n",
    "This course provides a solid introduction to derivatives modelling, blending theoretical and mathematical derivations with programming implementation. It is a relatively advanced introduction. It will not make you an expert on the subject but it does go beyond the Black-Scholes-Merton model, exploring implications of loosening the various assumptions that underlie the Black-Scholes-Merton model and theory. The course assumes you have taken at least a one-semester course on stochastic calculus. It also assumes that you have studied (or are currently studying) an introductory course on Black-Scholes-Merton - the Derivatives Modelling course at the ICMA centre - pricing of vanilla European options.\n",
    "\n",
    "Below, you can find an approximate timetable of the course, where 'L', 'S', and 'A' codes denote 'Lecture', 'Seminar' and 'Assignment'.\n",
    "The live lectures are organized as interactive discussions of the topics and are complemented by pre-recorded video lectures. \n",
    "The seminar are extensions of the lectures with more detailed derivations. The questions are available in advance of the seminar sessions. You are encouraged to attempt the questions beforehand. The seminar sessions go through model answers and typed answers are available after the session. Note that the questions are quite challenging and it is quite normal that you find really hard to answer them before the seminar. However, you should still try your best to think through them on your own before the seminar sessions.\n",
    "\n",
    "\n",
    "| Date | Topic |\n",
    "|------|------|\n",
    "| 2/09 | [Introduction, Logistics](topics/l0_introduction.html)|\n",
    "| 2/09 | [L1 Arbitrage, Replication Principles](topics/l1_principles.html)|\n",
    "| 2/16 | [L2 Binomial Model, Black-Scholes-Merton](topics/l2_black.html)|\n",
    "| 2/18 | [S1 No-Arbitrage Pricing for FX Markets](seminars/s1_fxpricing.html)|\n",
    "| 2/23 | [A1 Deadline](assignments/a1.html)|\n",
    "| 2/23 | [L3 Local and Stochastic Volatility Modelling](topics/l3_stochvol.html)|\n",
    "| 2/25 | [S2 Heston Model](seminars/s2_heston.html)|\n",
    "| 2/28 | [L4 Semi-Static Replication, Early Exercise Derivatives](topics/l4_american.html)|\n",
    "| 3/02 | [L5 Static Replication, Volatility Derivatives, Implied Distributions](topics/l5_static.html)|\n",
    "| 3/04 | [S3 Volatility Derivatives](seminars/s3_volderivatives.html)|\n",
    "| 3/09 | [A2 Deadline](assignments/a2.html)|\n",
    "| 3/09 | [L6 Interest Rates Derivatives](topics/l6_rates.html)|\n",
    "| 3/11 | [S4 Hull-White Model](seminars/s4_hullwhite.html)|\n",
    "| 3/16 | [L7 Term-Structure, HJM Modelling](topics/l7_hjm.html)\n",
    "| 3/23 | [A3 Deadline](assignments/a3.html)|\n",
    "| 3/23 | [S5 Exam Preparation](seminars/s5_review.html)|\n",
    "| 4/19 | [L8 Credit Modelling, Valuation Adjustments](topics/l8_xva.html)|\n",
    "| 4/26 | [Recap, Conclusion](topics/l9_conclusion.html)|"
   ]
  }
 ],
 "metadata": {
  "kernelspec": {
   "display_name": "Python 3",
   "name": "python3"
  },
  "language_info": {
   "name": "python"
  }
 },
 "nbformat": 4,
 "nbformat_minor": 4
}