{
 "cells": [
  {
   "cell_type": "markdown",
   "metadata": {},
   "source": [
    "# Assessment\n",
    "\n",
    "## Marking\n",
    "\n",
    "Here's the overall breakdown of the marking scheme:\n",
    "\n",
    "|  Component  | Deadline | Weight |\n",
    "|-------------|----------|--------|\n",
    "|Assignment 1 |   2/23   |   13.3%  |\n",
    "|Assignment 2 |   3/09   |   13.3%  |\n",
    "|Assignment 3 |   3/23   |   13.3%  |\n",
    "|Final Exam   |          |   60%  |\n",
    "\n",
    "## Assignments\n",
    "\n",
    "There are three assignments. Each count for 13.3% of your final mark. The assignments are challenging and time-consuming, so you are strongly encouraged to start as early as possible. They include a mix of theoretical questions and some programming work and numerical experiments to produce results. To maximize your learning and your chances of scoring the highest score possible. \n",
    "\n",
    "The deadline for submitting your answers is at 12.00 midday on the due date. You will receive your mark, feedback and full model answers within 1 week of submission.\n",
    "\n",
    "## Exams\n",
    "\n",
    "There's only one exam - at the end of term. This is an open book exam, i.e. you can bring anything you want. You will get more details on the exam in due course. We will also hold an exam preparation session and you will receive a sample of previous years exams ahead of time. The final exam count for 60% of the final mark."
   ]
  }
 ],
 "metadata": {
  "kernelspec": {
   "display_name": "Python 3",
   "name": "python3"
  },
  "language_info": {
   "name": "python"
  }
 },
 "nbformat": 4,
 "nbformat_minor": 4
}