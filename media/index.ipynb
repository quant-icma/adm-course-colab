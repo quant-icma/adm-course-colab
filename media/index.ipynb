{
 "cells": [
  {
   "cell_type": "markdown",
   "metadata": {},
   "source": [
    "# Videos\n",
    "\n",
    "| Date | Topic |\n",
    "|------|------|\n",
    "| 1/26 | [Topic 1 Intro: The basic ideas of arbitrage and replication](v1_principles.html)|\n",
    "\n",
    ":begin_tab:toc\n",
    " - [v1_principles](v1_principles.ipynb)\n",
    ":end_tab:\n"
   ]
  }
 ],
 "metadata": {
  "kernelspec": {
   "display_name": "Python 3",
   "name": "python3"
  },
  "language_info": {
   "name": "python"
  }
 },
 "nbformat": 4,
 "nbformat_minor": 4
}