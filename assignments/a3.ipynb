{
 "cells": [
  {
   "cell_type": "markdown",
   "metadata": {},
   "source": [
    "# Assignment 3\n",
    "\n",
    "## A stochastic volatility model\n",
    "\n",
    "Let $S_t$ be the value of a traded asset with risk-neutral dynamics given by a stochastic volatility model:\n",
    "$$dS_t = S_t \\left[r dt + \\sigma_t dW^1_t \\right]$$\n",
    "$$\\sigma_t = \\exp(y_t)$$\n",
    "$$dy_t = (\\theta - \\lambda y_t)dt + \\gamma dW^2_t$$\n",
    "with correlated brownians\n",
    "$$dW^1_t dW^2_t = \\rho dt$$\n",
    "Except the volatility $\\sigma_t$ which is stochastic, all other parameters $\\theta$, $\\lambda$, $\\gamma$ and $\\rho$ are known constants. The short rate $r$ is also constant.\n",
    "    \n",
    "- Derive the stochastic differential equation for the process followed by $\\sigma_t$.\n",
    "- Derive the partial differential equation for the price of a call option on $S_T$.\n",
    "- Assume you can only use the underlying asset for hedging. Your objective is to minimise the quadratic variation (instantaneous variance) of the hedging error. Derive the optimal hedging position in the underlying.\n",
    "\n",
    "## Implementation of a Monte-Carlo pricer for vanillas with Heston model\n",
    "\n",
    "### Standard discretisation schemes\n",
    "\n",
    "Consider the following discretisation schemes (described in the lecture slides and Gatheral’s book):\n",
    "  \n",
    "- Euler with absorbing assumption.\n",
    "- Euler with reflecting assumption.\n",
    "- Milstein discretisation.\n",
    "  \n",
    "Given an inital stock price of $100$ and the parameters: $\\nu=0.04$, $\\bar{\\nu}=0.04$, $\\lambda=1.15$, $\\eta=0.39$, $\\rho=-0.64$, examine the behaviour of the Monte Carlo pricing of a European ATM call as you increase the number of time steps and compare with results obtained using the closed-form Heston solution. You can find and use freely available implementations of the semi-closed form solution for Heston model on the web but you are responsible for checking their correctness.\n",
    "\n",
    "Report convergence results and computing times for all schemes implemented.\n",
    "\n",
    "### Improved discretisations\n",
    "\n",
    "You can get better results by replacing $\\nu$ with $\\nu^+$ (absorbing condition) in the diffusion term but leaving $\\nu$ unchanged in the drift term (that is, allow $\\nu$ to be negative in the drift term). Implement this approach for both\n",
    "\n",
    "- Euler scheme\n",
    "- Milstein scheme\n",
    "\n",
    "Demonstrate the impact on speed of convergence.\n",
    "\n",
    "### Implied volatility smile\n",
    "\n",
    "- Implement an implied volatility calculator. Given the stock price, strike, expiration in years and option price, your calculator should return the Black-Scholes implied volatility of a European option.\n",
    "- Using your implied volatility calculator, plot the implied volatility surface of European options with strikes from $50$ to $150$ assuming a stock price of $100$ and the Heston parameters above, for maturities from $0.5$ to $10$ years."
   ]
  }
 ],
 "metadata": {
  "kernelspec": {
   "display_name": "Python 3",
   "name": "python3"
  },
  "language_info": {
   "name": "python"
  }
 },
 "nbformat": 4,
 "nbformat_minor": 4
}