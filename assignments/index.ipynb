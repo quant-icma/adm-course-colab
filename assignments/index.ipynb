{
 "cells": [
  {
   "cell_type": "markdown",
   "metadata": {},
   "source": [
    "# Assignments\n",
    "\n",
    "| Date | Topic |\n",
    "|------|------|\n",
    "| 2/15 | [A1 Deadline](a1.html)|\n",
    "| 3/01 | [A2 Deadline](a2.html)|\n",
    "| 3/22 | [A3 Deadline](a3.html)|\n",
    "\n",
    ":begin_tab:toc\n",
    " - [a1](a1.ipynb)\n",
    " - [a2](a2.ipynb)\n",
    " - [a3](a3.ipynb)\n",
    ":end_tab:\n"
   ]
  }
 ],
 "metadata": {
  "kernelspec": {
   "display_name": "Python 3",
   "name": "python3"
  },
  "language_info": {
   "name": "python"
  }
 },
 "nbformat": 4,
 "nbformat_minor": 4
}