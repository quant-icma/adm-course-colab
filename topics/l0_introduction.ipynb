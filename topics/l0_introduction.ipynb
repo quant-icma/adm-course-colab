{
 "cells": [
  {
   "cell_type": "markdown",
   "metadata": {},
   "source": [
    "# Introduction\n",
    "\n",
    "[Slides](../slides/sl0_introduction.html)\n",
    "\n",
    "## Motivation\n",
    "\n",
    "Two basic ideas are at the core of the theory and practice of derivatives modelling. \n",
    "First, is the assumption of __'no risk-less arbitrage'__ which postulates that in\n",
    "competitive markets profits cannot be made without taking risks. Second, the\n",
    "method of __replication__ which values or hedges a derivative security by finding a\n",
    "replicating portfolio of instruments with the same payoffs as the target security.\n",
    "Then the value of target instrument is the price of the replicating portfolio.\n",
    "\n",
    "## Overview\n",
    "\n",
    "This course provides a solid introduction to derivatives modelling, blending theoretical\n",
    "and mathematical derivations with programming implementation. It is a relatively advanced\n",
    "introduction. We review the foundations leading to the Black-Scholes-Merton model, \n",
    "and explore implications of loosening the various assumptions that underlie \n",
    "the Black-Scholes-Merton model and theory. \n",
    "\n",
    "The first three lectures introduce the arbitrage approach and replication principles for \n",
    "derivatives valuation leading into the discrete-time binomial tree model of :cite:`COX19793229` \n",
    "and the continuous-time geometric brownian motion model of :cite:`BLACK19733637,MERTON19731141`.\n",
    "We also introduce 'model-free' static replication as in :cite:`CARR20091319,CARR2001458` \n",
    "and its application to variance swaps and other derivatives. We also look at the inverse-problem \n",
    "of recovering an implied risk-neutral distribution from vanilla option prices from :cite:`BREEDEN19784621`. \n",
    "\n",
    "We then consider the application of these models to the valuation of foreign exchange \n",
    "derivatives as in :cite:`GARMAN1983231`. We also apply these models to options with \n",
    "early exercise decisions, i.e. Bermudan and American options, as in :cite:`COX19793229` \n",
    "for the binomial model and :cite:`KARATZAS1988137,JACKA199121` for the continuous-time model. \n",
    "We also introduce the relatively 'model-independent' approach of :cite:`JACKEL2001135` \n",
    "to the valuation of early exercise options using weak/semi-static replication.\n",
    "\n",
    "Furthermore, we study the P&L of hedged options in the Black-Scholes-Merton model and consider\n",
    "the impact of discrete-hedging and transaction costs on hedging and valuation. We then take on \n",
    "local and stochastic volatility modelling. We also introduce the topic of interest rates derivatives \n",
    "and the modelling of the term structure of interest rates with the Heath-Jarrow-Morton framework. \n",
    "Finally, we briefly study the problem of credit risk modelling and valuation adjustments arising \n",
    "from the counterparty credit risk and funding costs inherent in derivatives trading.\n",
    "\n",
    "Throughout the course we emphasize the core ideas and concepts of derivatives valuation and practical \n",
    "trade-offs in model selection and application to trading problems. We use mathematics relatively \n",
    "informally, i.e. without full rigour, to emphasize insights and application to derivatives valuation\n",
    "and hedging. We hope the various numerical experiments, simulations, and programming assignments\n",
    "throughout the course will bring the theory into life for students to get a concrete grasp of the subject. \n",
    "The associated 'Programming for Financial Engineering' completes this course with its focus on \n",
    "programming implementation."
   ]
  }
 ],
 "metadata": {
  "kernelspec": {
   "display_name": "Python 3",
   "name": "python3"
  },
  "language_info": {
   "name": "python"
  }
 },
 "nbformat": 4,
 "nbformat_minor": 4
}