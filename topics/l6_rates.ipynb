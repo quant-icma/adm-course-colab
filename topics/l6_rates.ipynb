{
 "cells": [
  {
   "cell_type": "markdown",
   "metadata": {},
   "source": [
    "# Interest Rates and Their Derivatives\n",
    "\n",
    "[Interest Rates Derivatives](IRD.pdf)\n",
    "\n",
    "[Introduction to Interest Rates](IR_Intro_Slides.pdf)\n",
    "\n",
    "[Introduction to IR modelling](IntroductionToIRModelling.pdf)"
   ]
  }
 ],
 "metadata": {
  "kernelspec": {
   "display_name": "Python 3",
   "name": "python3"
  },
  "language_info": {
   "name": "python"
  }
 },
 "nbformat": 4,
 "nbformat_minor": 4
}