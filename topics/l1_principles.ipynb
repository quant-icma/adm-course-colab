{
 "cells": [
  {
   "cell_type": "markdown",
   "metadata": {},
   "source": [
    "# Arbitrage Theory and Replication Principles\n",
    "\n",
    "[Slides](../slides/sl1_principles.html)\n",
    "\n",
    "[Videos](../media/v1_principles.html)\n",
    "\n",
    "[Readings](../readings/r1_merton1973.html)\n",
    "\n",
    "## Arbitrage portfolio\n",
    "\n",
    "An arbitrage portfolio is \n",
    "\n",
    "- a zero cost portfolio, with \n",
    "- non-negative future payoffs, and\n",
    "- a positive probability of yielding a positive payoff\n",
    "\n",
    "Clearly finding such portfolios would allow an investor to get rich without risk and with no cost.\n",
    "The no-arbitrage principle posits that such portfolios do not exist.\n",
    "\n",
    "## Monotonicity Theorem\n",
    "\n",
    "A consequence of the no-arbitrage principle is the monotonicity theorem which states that"
   ]
  },
  {
   "cell_type": "markdown",
   "metadata": {},
   "source": [
    "```{theorem}\n",
    "Given two portfolios A and B such that the payoff of portfolio A is greater or equal than the payoff of B,\n",
    "then portfolio A is worth at least as much as portfolio B at all times.\n",
    "\n",
    "If in addition, there is a positive probability that the payoff of A will strictly dominate the payoff of B,\n",
    "then portfolio A is worth more than portfolio B at all times.\n",
    "```\n"
   ]
  },
  {
   "cell_type": "markdown",
   "metadata": {},
   "source": [
    "## Some Consequences\n",
    "\n",
    "No-arbitrage and monotonicity arguments are used extensively in [Merton](../readings/r1_merton1973.html).\n",
    "We state a few natural consequences here.\n",
    "\n",
    "\n",
    "An option has a non-negative payoff. The payoff is at least as much as zero and if it has a positive probability of\n",
    "being positive, then the option would dominate an empty portfolio worth zero, therefore"
   ]
  },
  {
   "cell_type": "markdown",
   "metadata": {},
   "source": [
    "```{theorem}\n",
    "Calls and Puts always have positive value before expiry.\n",
    "```\n"
   ]
  },
  {
   "cell_type": "markdown",
   "metadata": {},
   "source": [
    "Consider two portfolios A and B with the same payoff. Then A is worth at least as much as B, and B is worth at least\n",
    "as much as A, and thus we can deduce"
   ]
  },
  {
   "cell_type": "markdown",
   "metadata": {},
   "source": [
    "```{theorem}\n",
    "Two portfolios with equal payoffs have the same value at all times.\n",
    "```\n"
   ]
  },
  {
   "cell_type": "markdown",
   "metadata": {},
   "source": [
    "Now, considering two portfolios costing the same. If A's payoff has a positive probability of\n",
    "yielding more than B's, then it has to be that there is also a positive probability of B's payoff being\n",
    "larger than A's. Otherwise we could not justify the equal valuation because the monotonicity theorem would demand\n",
    "that A be worth more."
   ]
  },
  {
   "cell_type": "markdown",
   "metadata": {},
   "source": [
    "```{theorem}\n",
    "Given two portfolios A and B are of equal value today. If there is a positive probability that A will be worth more\n",
    "in the future, then there is also a positive probability that B will be worth more in the future.\n",
    "```\n"
   ]
  }
 ],
 "metadata": {
  "kernelspec": {
   "display_name": "Python 3",
   "name": "python3"
  },
  "language_info": {
   "name": "python"
  }
 },
 "nbformat": 4,
 "nbformat_minor": 4
}