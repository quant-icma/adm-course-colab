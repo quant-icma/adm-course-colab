{
 "cells": [
  {
   "cell_type": "markdown",
   "metadata": {},
   "source": [
    "# Static Replication, Volatility Derivativesm and Implied Risk-Neutral Distributions\n",
    "\n",
    "### Generalized payoffs\n",
    "\n",
    "It is in fact possible to use combinations of options to replicate arbitrary payoffs at\n",
    "a fixed expiration\n",
    "\n",
    "```{.python .input}\n",
    "%matplotlib inline\n",
    "import numpy as np\n",
    "import math\n",
    "import matplotlib.pyplot as plt\n",
    "from scipy import stats\n",
    "plt.rcParams['figure.figsize'] = (14,10)\n",
    "\n",
    "I = 100 * (np.random.random() + np.random.random())\n",
    "Ks = np.linspace(1, 200, 200)\n",
    "#Ks = np.array([20, 60, 80, 120])\n",
    "slopes = 10 * (0.5 - np.random.random(Ks.size+1))\n",
    "W = slopes[1:]-slopes[:-1]\n",
    "\n",
    "#### Uncomment the line below and change the code to create \n",
    "####  the grid values of the underlying to use in your plots\n",
    "S = np.linspace(0, 200, 400)\n",
    "\n",
    "\n",
    "\n",
    "#### Uncomment the line below and complete the code\n",
    "payoffs = np.empty_like(S)\n",
    "for i,s in enumerate(S):\n",
    "    payoffs[i] = I + slopes[0] * s + np.dot(W, np.maximum(s-Ks, 0))\n",
    "\n",
    "\n",
    "## Plot call payoff and value functions\n",
    "## Uncomment the plotting lines and complete\n",
    "plt.figure()\n",
    "plt.plot(S, payoffs)\n",
    "plt.show()\n",
    "```"
   ]
  }
 ],
 "metadata": {
  "kernelspec": {
   "display_name": "Python 3",
   "name": "python3"
  },
  "language_info": {
   "name": "python"
  }
 },
 "nbformat": 4,
 "nbformat_minor": 4
}