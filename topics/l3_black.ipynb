{
 "cells": [
  {
   "cell_type": "markdown",
   "metadata": {},
   "source": [
    "# Discrete Binomial Tree and Black-Scholes-Merton Models\n",
    "\n",
    "## European option pricing with Black-Scholes model\n",
    "\n",
    "In [Black and Scholes (1973)](../readings/r5_blackscholes.html), we saw a proof \n",
    "of the Black-Scholes PDE using a hedging or replication argument where the option is\n",
    "replicated with a continous-time dynamic replication with the stock.\n",
    "\n",
    "Here, we look at a probabilistic/martingale approach to derive the formula\n",
    "[Martingale Black-Scholes](MartingaleBlackScholes.pdf)\n",
    "\n",
    "## Option pricing with the Binomial tree\n",
    "\n",
    "In this [two-step visualization](AmericanCRR.pdf), we build the intuition with a numerical example.\n",
    "\n",
    "In the assignment, you implement the bionomial tree of pricing European options and show \n",
    "numerically the convergence to Black-Scholes formula as the discrete time steps converge to\n",
    "zero. \n",
    "\n",
    "In the original [Cox, Ross and Rubinstein (1979)](../readings/r4_crr.html), the convergence to\n",
    "Black-Scholes formula is proven.\n",
    "\n",
    "A complete rigorous treatment of American option pricing on the binomial tree is given in \n",
    "[Binomial American option pricing](BinomialAmerican.pdf)"
   ]
  }
 ],
 "metadata": {
  "kernelspec": {
   "display_name": "Python 3",
   "name": "python3"
  },
  "language_info": {
   "name": "python"
  }
 },
 "nbformat": 4,
 "nbformat_minor": 4
}