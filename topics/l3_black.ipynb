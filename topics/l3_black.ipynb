{
 "cells": [
  {
   "cell_type": "markdown",
   "metadata": {},
   "source": [
    "# Discrete Binomial Tree and Black-Scholes-Merton Models\n",
    "\n",
    "In [Black and Scholes (1973)](../readings/r5_blackscholes.html), we saw a proof \n",
    "of the Black-Scholes PDE using a hedging or replication argument where the option is\n",
    "replicated with a continous-time dynamic replication with the stock.\n",
    "\n",
    "Here, we look at a probabilistic/martingale approach to derive the formula\n",
    "[Martingale Black-Scholes](MartingaleBlackScholes.pdf)"
   ]
  }
 ],
 "metadata": {
  "kernelspec": {
   "display_name": "Python 3",
   "name": "python3"
  },
  "language_info": {
   "name": "python"
  }
 },
 "nbformat": 4,
 "nbformat_minor": 4
}