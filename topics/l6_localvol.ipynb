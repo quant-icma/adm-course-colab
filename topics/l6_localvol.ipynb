{
 "cells": [
  {
   "cell_type": "markdown",
   "metadata": {},
   "source": [
    "# Local and Stochastic Volatility\n",
    "\n",
    "## Slides\n",
    "\n",
    "[Volatility Modelling in Continuous Time](ADM_Lecture3_2015.ppt)\n",
    "\n",
    "[Stochastic Volatility](StochasticVolatility.pdf)\n",
    "\n",
    "## Notes\n",
    "\n",
    "[Beyond Black-Scholes: Different models for different payoffs](Beyond_BS_payoffsAndModels.pdf)\n",
    "\n",
    "## Reading\n",
    "\n",
    "[Derivation of Local Volatility](Dupire_Local_Volatility.pdf)"
   ]
  }
 ],
 "metadata": {
  "kernelspec": {
   "display_name": "Python 3",
   "name": "python3"
  },
  "language_info": {
   "name": "python"
  }
 },
 "nbformat": 4,
 "nbformat_minor": 4
}