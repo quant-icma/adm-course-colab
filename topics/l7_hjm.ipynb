{
 "cells": [
  {
   "cell_type": "markdown",
   "metadata": {},
   "source": [
    "# Modelling the Term-Structure of Interest Rates with HJM\n",
    "\n",
    "[HJM](HJM_DiscountCurve.pdf)\n",
    "\n",
    "[Multi-curve HJM slides](MultiCurveHJM_slides.pdf)\n",
    "\n",
    "[Multi-curve HJM notes](MultiCurveHJM_notes.pdf)"
   ]
  }
 ],
 "metadata": {
  "kernelspec": {
   "display_name": "Python 3",
   "name": "python3"
  },
  "language_info": {
   "name": "python"
  }
 },
 "nbformat": 4,
 "nbformat_minor": 4
}