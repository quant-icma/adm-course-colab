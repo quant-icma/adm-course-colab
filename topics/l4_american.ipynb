{
 "cells": [
  {
   "cell_type": "markdown",
   "metadata": {},
   "source": [
    "# Semi-Static Replication and Early Exercise Derivatives\n",
    "\n",
    "## Slides\n",
    "\n",
    "[Early-Exercise Pricing](EarlyExercisePricing_Handout.pdf)"
   ]
  }
 ],
 "metadata": {
  "kernelspec": {
   "display_name": "Python 3",
   "name": "python3"
  },
  "language_info": {
   "name": "python"
  }
 },
 "nbformat": 4,
 "nbformat_minor": 4
}