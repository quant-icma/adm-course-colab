{
 "cells": [
  {
   "cell_type": "markdown",
   "metadata": {},
   "source": [
    "# Stochastic Volatility Modelling\n",
    "\n",
    "## Slides\n",
    "\n",
    "[Heston Model](HestonModel.pdf)\n",
    "\n",
    "[Numerical Methods for Heston model](Heston_NumericalApproaches.pdf)\n",
    "\n",
    "## Reading\n",
    "\n",
    "[Heston (1993)](Heston1993.pdf)\n",
    "\n",
    "[The little Heston trap](AlbrecherMayerSchoutensTistart2006_The_Little_Heston_Trap.pdf)\n",
    "\n",
    "[Comparision biased simulation](LordKoekkoekVanDijk2008_ComparisonBiasedSimulationSchemes.pdf)\n",
    "\n",
    "[Efficient simulation for Heston](Andersen2006_EfficientSimulationHeston.pdf)\n",
    "\n",
    "[Exact simulation](BroadieKaya2004_ExactSimulationStochasticVolatility.pdf)\n",
    "\n",
    "[Fast strong approximation](KahlJackel2006_FastStrongApproximationMonteCarloSchemesForStochasticVolatilityModels.pdf)"
   ]
  }
 ],
 "metadata": {
  "kernelspec": {
   "display_name": "Python 3",
   "name": "python3"
  },
  "language_info": {
   "name": "python"
  }
 },
 "nbformat": 4,
 "nbformat_minor": 4
}