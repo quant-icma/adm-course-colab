{
 "cells": [
  {
   "cell_type": "markdown",
   "metadata": {},
   "source": [
    "# Readings\n",
    "\n",
    "| Date | Topic |\n",
    "|------|------|\n",
    "| 1/26 | [R1 Merton (1973) - Theory of Rational Option Pricing](r1_merton1973.html)|\n",
    "| 2/01 | [R2 Demeterfi and al. (1999) - A Guide to Volatility and Variance Swaps](r2_demeterfi1999.html)|\n",
    "| 2/01 | [R3 Breeden and Litzenberger (1978) - Prices of State-Contingent Claims Implicit in Option Prices](r3_breeden1978.html)|\n",
    "| 2/08 | [R4 Cox, Ross and Rubinstein (1979) - Option Pricing: A Simplified Approach](r4_crr.html)|\n",
    "| 2/08 | [R5 Black and Scholes (1973) - The Pricing of Options and Corporate Liabilities](r5_blackscholes.html)|\n",
    "| 2/22 | [R6 Jackel and Rebonato (2001) - Valuing American options in the presence of user-defined smiles](r6_staticamerican.html)|\n",
    "\n",
    "Some 'seminal' papers readings are required before the lectures. \n",
    "It is important that you try reading these before the live lectures\n",
    "to maximize learning during the lecture. One objective is to gain an\n",
    "appreciation of original contributions. Another goal is to become \n",
    "efficient at reading complex technical papers which will help you\n",
    "become better self-learners.\n",
    "\n",
    "I recommend you try to follow the 'three-pass' approach from \n",
    "[Keshav (2007) - How to Read a Paper](https://doi.org/10.1145/1273445.1273458), \n",
    "or a similar approach.\n",
    "\n",
    "## Three-pass Reading approach\n",
    "\n",
    "### First Pass\n",
    "\n",
    "The first pass should take no more than 30 minutes. \n",
    "It consists of careful reading fo the title, abstract, introduction and conclusion.\n",
    "Also read the section and sub-section titles and skim/scan the rest.\n",
    "At the end of the first pass, you should be able to summarize the paper in 3-5 points/sentences.\n",
    "\n",
    "### Second Pass\n",
    "\n",
    "The second pass should take around 1-2 hours. This time, you read the sections with greater care,\n",
    "but still ignoring details of the proofs. Take notes as you go. You should be looking at expanding\n",
    "your summary of the paper with more supporting evidence of the paper results, i.e. main ideas of the \n",
    "proofs or empirical methodologies used with all the details of it.\n",
    "\n",
    "### Third Pass\n",
    "\n",
    "For papers where you deem important to fully master all the details, you can have a third pass. Here, you go\n",
    "through all the details, trying to re-do the proofs by yourself or reproducing the empirical/numerical results\n",
    "on your own. You are also aiming to discover any implicit assumptions.\n",
    "\n",
    ":begin_tab:toc\n",
    " - [r1_merton1973](r1_merton1973.ipynb)\n",
    " - [r2_demeterfi1999](r2_demeterfi1999.ipynb)\n",
    " - [r3_breeden1978](r3_breeden1978.ipynb)\n",
    " - [r4_crr](r4_crr.ipynb)\n",
    " - [r5_blackscholes](r5_blackscholes.ipynb)\n",
    " - [r6_staticamerican](r6_staticamerican.ipynb)\n",
    ":end_tab:\n"
   ]
  }
 ],
 "metadata": {
  "kernelspec": {
   "display_name": "Python 3",
   "name": "python3"
  },
  "language_info": {
   "name": "python"
  }
 },
 "nbformat": 4,
 "nbformat_minor": 4
}