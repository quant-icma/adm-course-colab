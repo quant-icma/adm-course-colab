{
 "cells": [
  {
   "cell_type": "markdown",
   "metadata": {},
   "source": [
    "# Demeterfi, Derman, Kamal, and Zou (1999): A Guide to Volatility and Variance Swaps\n",
    "\n",
    "Demeterfi, Kresimir; Derman, Emanuel; Kamal, Michael; and Zou, Joseph: “A Guide to Volatility and Variance Swaps\". The Journal of Derivatives, vol. 6, no. 4, 1999, pp. 9–32. [www.jod.pm-research.com/content/6/4/9](https://jod.pm-research.com/content/6/4/9)\n",
    "\n",
    "Available online through the university [https://search.proquest.com/docview/220514047](https://search.proquest.com/docview/220514047)\n",
    "\n",
    "\n",
    "This paper introduces volatility and variance swaps and explain their properties. \n",
    "\n",
    "It shows that a variance swap can be replicated statically by a hedged portfolio\n",
    "of standard options as long as the stock price cannot jump."
   ]
  }
 ],
 "metadata": {
  "kernelspec": {
   "display_name": "Python 3",
   "name": "python3"
  },
  "language_info": {
   "name": "python"
  }
 },
 "nbformat": 4,
 "nbformat_minor": 4
}