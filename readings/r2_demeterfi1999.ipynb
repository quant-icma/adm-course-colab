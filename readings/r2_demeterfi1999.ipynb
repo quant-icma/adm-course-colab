{
 "cells": [
  {
   "cell_type": "markdown",
   "metadata": {},
   "source": [
    "# Demeterfi, Derman, Kamal, and Zou (1999): A Guide to Volatility and Variance Swaps\n",
    "\n",
    "Demeterfi, Kresimir; Derman, Emanuel; Kamal, Michael; and Zou, Joseph: “A Guide to Volatility and Variance Swaps\". The Journal of Derivatives, vol. 6, no. 4, 1999, pp. 9–32. [www.jod.pm-research.com/content/6/4/9](https://jod.pm-research.com/content/6/4/9)\n",
    "\n",
    "Available online through the university [https://search.proquest.com/docview/220514047](https://search.proquest.com/docview/220514047)\n",
    "\n",
    "\n",
    "This paper introduces volatility and variance swaps and explain their properties. \n",
    "\n",
    "It shows that a variance swap can be replicated statically by a hedged portfolio\n",
    "of standard options as long as the stock price cannot jump.\n",
    "\n",
    "\n",
    "\n",
    "A variance swap is a forward contract on realized variance that pays at expiration\n",
    "$$N \\left[V(0,T) - K(0,T) \\right]$$\n",
    "\n",
    "where \n",
    "\n",
    "- $V(0,T)$ denotes the realized annualized return variance between $0$ and $T$,\n",
    "- $K(0,T)$ denotes the fixed variance swap rate determined at time $0$,\n",
    "- and $N$ is the notional of the swap.\n",
    "\n",
    "\n",
    "To replicate a variance swap, we have to build a portfolio of options such that its sensitivity \n",
    "to the variance is constant and independent of $S$. Let $\\nu=\\sigma \\sqrt{T}$. \n",
    "\n",
    "Consider a portfolio of vanilla options with variable strike $K$ and a density function $\\rho(K)$ \n",
    "so that the number of vanilla options with value $C(S,K,\\nu)$ with strike between $K$  and $K+dK$\n",
    "is $\\rho(K)dK$. The value of the portfolio is then given by\n",
    "$$\\int_0^{\\infty} \\rho(K)C(S,K,\\nu) dK$$\n",
    "\n",
    "We now show that the sensitivity of this portfolio to variance is independent of the stock price $S$ when\n",
    "$\\rho(K)= \\frac{1}{K^2}$.\n",
    "\n",
    "The sensitivity of an option to the underlying's variance $\\mathcal{V}$ is given by\n",
    "$$\\kappa(S,K,\\nu) = \\frac{\\partial C}{\\partial \\sigma^2}= \\frac{S \\sqrt{T}}{2 \\sigma}\\frac{e^{-d_1^2/2}}{\\sqrt{2 \\pi}}$$\n",
    "Then the sensitivity of the whole portfolio is\n",
    "$$\\kappa_{\\pi}= \\int_0^{\\infty} \\rho(K)\\kappa(S,K,\\nu) dK=\\int_0^{\\infty} \\rho(K) S f(\\frac{K}{S},\\nu,T) dK$$\n",
    "where\n",
    "$$f(\\frac{K}{S},\\nu,T)=\\frac{\\sqrt{T}}{2 \\sigma \\sqrt{2\\pi}}e^{-\\frac{1}{2}d_1^2}$$\n",
    "\n",
    "Define a new variable $x=\\frac{K}{S}$, then\n",
    "$$\\kappa_{\\pi}=\\int_0^{\\infty} \\rho(xS) S^2 f(x,\\nu,T) dx$$\n",
    "\n",
    "Since all the dependence on $S$ is now in the term $\\rho(xS) S^2$, if we choose $\\rho(xS)$ \n",
    "proportional to $\\frac{1}{x^2 S^2}$ we can remove all the dependence on $S$. \n",
    "\n",
    "Hence a continuous density of vanilla options with weights $\\rho(K)=\\frac{1}{K^2}$ will have\n",
    "a variance sensitivity independent of the stock price, and thus replicate a variance swap."
   ]
  }
 ],
 "metadata": {
  "kernelspec": {
   "display_name": "Python 3",
   "name": "python3"
  },
  "language_info": {
   "name": "python"
  }
 },
 "nbformat": 4,
 "nbformat_minor": 4
}