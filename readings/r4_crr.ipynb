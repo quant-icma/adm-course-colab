{
 "cells": [
  {
   "cell_type": "markdown",
   "metadata": {},
   "source": [
    "# Cox, Ross and Rubinstein (1979) Option Pricing: A Simplified Approach\n",
    "\n",
    "Cox, John C.; Ross, Stephen A.; Rubinstein M.: “Option Pricing: A Simplified Approach\". Journal of Financial Economics, vol. 7, no. 3, 1979, pp. 229–263. [Elsevier](https://www.sciencedirect.com/science/article/pii/0304405X79900151)"
   ]
  }
 ],
 "metadata": {
  "kernelspec": {
   "display_name": "Python 3",
   "name": "python3"
  },
  "language_info": {
   "name": "python"
  }
 },
 "nbformat": 4,
 "nbformat_minor": 4
}