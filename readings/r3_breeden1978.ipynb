{
 "cells": [
  {
   "cell_type": "markdown",
   "metadata": {},
   "source": [
    "# Breeden, Litzenberger (1978): Prices of State-Contingent Claims Implicit in Option Prices\n",
    "\n",
    "Breeden, Douglas T.; Litzenberger, Robert H.: “Prices of State-Contingent Claims Implicit in Option Prices\". The Journal of Business, vol. 51, no. 4, 1978, pp. 621–651. [www.jstor.org/stable/2352653](https://www.jstor.org/stable/2352653)\n",
    "\n",
    "\n",
    "This paper proves the fundamental results:\n",
    "\n",
    "- The knowledge of European vanilla call (and put) options \n",
    "$$c(K,T), \\forall K, \\forall T$$ \n",
    "is equivalent to the knowledge of the risk-neutral probability distribution of $S_T, \\forall T$\n",
    "\n",
    "- The risk-neutral probability density function for $T$ is given by\n",
    "$$\\phi_T(K) = \\frac{1}{B(0,T)} \\frac{\\partial^2 c}{\\partial^2 K}$$\n",
    "\n",
    "where $B(0,T)$ is the price of the zero-coupon bond for maturity $T$."
   ]
  }
 ],
 "metadata": {
  "kernelspec": {
   "display_name": "Python 3",
   "name": "python3"
  },
  "language_info": {
   "name": "python"
  }
 },
 "nbformat": 4,
 "nbformat_minor": 4
}