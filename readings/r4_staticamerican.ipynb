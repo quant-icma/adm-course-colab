{
 "cells": [
  {
   "cell_type": "markdown",
   "metadata": {},
   "source": [
    "# Jackel and Rebonato (2001), Valuing American options in the presence of user-defined smiles\n",
    "\n",
    "Jackel, P.; Rebonato, R.: “Valuing American options in the presence of user-defined \n",
    "smiles and time-dependent volatility: scenario analysis, model stress and lower-bound pricing applications\". \n",
    "Journal of Risk Economy, vol. 4, no. 1, 2001, pp. 35–61."
   ]
  }
 ],
 "metadata": {
  "kernelspec": {
   "display_name": "Python 3",
   "name": "python3"
  },
  "language_info": {
   "name": "python"
  }
 },
 "nbformat": 4,
 "nbformat_minor": 4
}