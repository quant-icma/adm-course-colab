{
 "cells": [
  {
   "cell_type": "markdown",
   "metadata": {},
   "source": [
    "# Black and Scholes (1973), The Pricing of Options and Corporate Liabilities\n",
    "\n",
    "Black, F.; Scholes, M.: “The Pricing of Options and Corporate Liabilities\". Journal of Political Economy, vol. 81, no. 3, 1973, pp. 637–654. [www.jstor.org/stable/1831029](https://www.jstor.org/stable/1831029)"
   ]
  }
 ],
 "metadata": {
  "kernelspec": {
   "display_name": "Python 3",
   "name": "python3"
  },
  "language_info": {
   "name": "python"
  }
 },
 "nbformat": 4,
 "nbformat_minor": 4
}